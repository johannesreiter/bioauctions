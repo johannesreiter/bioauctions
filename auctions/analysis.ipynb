{
 "metadata": {
  "name": "",
  "signature": "sha256:297466a590716c21e7ca1449a3dad45b35cb19c8dfd9c93bba0d3d9eb342b564"
 },
 "nbformat": 3,
 "nbformat_minor": 0,
 "worksheets": [
  {
   "cells": [
    {
     "cell_type": "code",
     "collapsed": false,
     "input": [
      "import csv\n",
      "import numpy as np\n",
      "import os\n",
      "import matplotlib.pyplot as plt\n",
      "%matplotlib inline\n",
      "import settings"
     ],
     "language": "python",
     "metadata": {},
     "outputs": [],
     "prompt_number": 1
    },
    {
     "cell_type": "code",
     "collapsed": false,
     "input": [
      "filename = 'strdensity_g=100000_N=1000_n=3_K=1000_v1=v2=1.0_u=0.005.tsv'\n",
      "data_path = os.path.join(settings.OUTPUT_FOLDER, filename)"
     ],
     "language": "python",
     "metadata": {},
     "outputs": [],
     "prompt_number": 30
    },
    {
     "cell_type": "code",
     "collapsed": false,
     "input": [
      "# read data file from the simulation\n",
      "with open(data_path, 'r') as data_file:\n",
      "        \n",
      "    strategies = []\n",
      "    densities = []\n",
      "    \n",
      "    datareader = csv.reader(data_file, delimiter='\\t')\n",
      "    for row in datareader:\n",
      "        \n",
      "        if len(row) == 0 or row[0].startswith('#'):\n",
      "            continue\n",
      "        elif row[0].startswith('Strategy'):    # header\n",
      "            header = row\n",
      "        else:                                  # data\n",
      "            #print('\\t'.join(row))\n",
      "            strategies.append(row[0])\n",
      "            densities.append(row[1])"
     ],
     "language": "python",
     "metadata": {},
     "outputs": [],
     "prompt_number": 12
    },
    {
     "cell_type": "code",
     "collapsed": false,
     "input": [
      "# create simple plot to get a quick impression of the results\n",
      "fig, ax = plt.subplots(figsize=(6, 4))\n",
      "#ax.set_title('Generation: {}'.format(gen))\n",
      "ax.set_xlabel('Strategy')\n",
      "ax.set_ylabel('Density')\n",
      "plt.plot(strategies, densities, '-')\n",
      "plt.axis([0, 1, 0, 4])\n",
      "plt.show()"
     ],
     "language": "python",
     "metadata": {},
     "outputs": [
      {
       "metadata": {},
       "output_type": "display_data",
       "png": "[encoded data removed]",
       "text": [
        "<matplotlib.figure.Figure at 0x109a27e10>"
       ]
      }
     ],
     "prompt_number": 14
    }
   ],
   "metadata": {}
  }
 ]
}