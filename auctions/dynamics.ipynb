{
 "metadata": {
  "name": "",
  "signature": "sha256:e106fc599d200dd3c1ff38a7fdeff65a85b77f7a1f36237c9083cabe2d96c2ce"
 },
 "nbformat": 3,
 "nbformat_minor": 0,
 "worksheets": [
  {
   "cells": [
    {
     "cell_type": "code",
     "collapsed": false,
     "input": [
      "from bioauctions import *\n",
      "import utils.output as output\n",
      "import numpy as np\n",
      "import os\n",
      "import matplotlib.pyplot as plt\n",
      "%matplotlib inline"
     ],
     "language": "python",
     "metadata": {},
     "outputs": [],
     "prompt_number": 1
    },
    {
     "cell_type": "code",
     "collapsed": false,
     "input": [
      "population_size = 1000\n",
      "no_participants = 10\n",
      "no_auctions = 1000 \n",
      "rewards = [1.0, 1.0, 1.0, 1.0, 1.0] \n",
      "mutation_rate = 0.01\n",
      "no_strategies = 101\n",
      "\n",
      "# create directory for data files\n",
      "output_directory = output.init_output()"
     ],
     "language": "python",
     "metadata": {},
     "outputs": [],
     "prompt_number": 8
    },
    {
     "cell_type": "code",
     "collapsed": false,
     "input": [
      "# initialize fitness array\n",
      "pop_fitnesses = np.zeros(population_size, np.float64)\n",
      "# initialize strategy density array\n",
      "strategy_density = np.zeros(no_strategies, np.float64)\n",
      "\n",
      "# initialize population with random strategies\n",
      "pop_strategies = initialize_population(population_size, no_strategies, rewards[0])\n",
      "\n",
      "# fixed initial value for each individual in the pop_size\n",
      "initial_fitness_value = min(no_auctions, 10 * no_auctions * no_participants / population_size)\n",
      "\n",
      "# initialize generation\n",
      "gen = 0"
     ],
     "language": "python",
     "metadata": {},
     "outputs": [],
     "prompt_number": 9
    },
    {
     "cell_type": "code",
     "collapsed": false,
     "input": [
      "no_generations = 1000\n",
      "for _ in range(no_generations):   \n",
      "    gen += 1\n",
      "    # reset fitness values for each generation\n",
      "    reset_initial_fitness(pop_fitnesses, initial_fitness_value)\n",
      "    # track the strategy distribution over all generations\n",
      "    for strategy in pop_strategies:\n",
      "        strategy_density[int(round((strategy / rewards[0] * (no_strategies - 1)), 0))] += 1\n",
      "    # simulate all auctions per generations and update fitess values\n",
      "    simulate_auctions(pop_strategies, pop_fitnesses, no_auctions, no_participants, rewards)\n",
      "    # selection proportional to fitness values\n",
      "    pop_strategies = produce_new_generation(pop_strategies, pop_fitnesses, mutation_rate,\n",
      "                                            rewards[0], no_strategies)\n",
      "# initialize strategy density array\n",
      "str_den = np.zeros(no_strategies, np.int)\n",
      "for strategy in pop_strategies:\n",
      "    str_den[int(round((strategy / rewards[0] * (no_strategies - 1)), 0))] += 1\n",
      "  \n",
      "# create simple figure to show the strategy histogram in the population\n",
      "fig, ax = plt.subplots(figsize=(6, 4))\n",
      "ax.set_title('Generation: {}'.format(gen))\n",
      "ax.set_xlabel('Strategy')\n",
      "ax.set_ylabel('Density')\n",
      "plt.plot([i/float(no_strategies-1) for i in range(no_strategies)], str_den/population_size, '-')\n",
      "plt.axis([0, 1, 0, 0.5])\n",
      "plt.show()\n",
      "\n",
      "# snapshot of the population distribution for dynamics figure\n",
      "fn_dynamics = \"dynamics_\"+output.get_fn_suffix(no_generations, population_size,\n",
      "              no_participants, no_auctions, rewards, mutation_rate)+\"_\"+str(gen)+\".tsv\"\n",
      "output.write_snapshot_file(os.path.join(output_directory, fn_dynamics), pop_strategies, gen, no_generations, population_size, no_strategies,\n",
      "                        no_participants, no_auctions, rewards, mutation_rate)"
     ],
     "language": "python",
     "metadata": {},
     "outputs": [
      {
       "metadata": {},
       "output_type": "display_data",
       "png": "[encoded data removed]",
       "text": [
        "<matplotlib.figure.Figure at 0x1099b9f90>"
       ]
      }
     ],
     "prompt_number": 10
    },
    {
     "cell_type": "code",
     "collapsed": false,
     "input": [],
     "language": "python",
     "metadata": {},
     "outputs": []
    }
   ],
   "metadata": {}
  }
 ]
}